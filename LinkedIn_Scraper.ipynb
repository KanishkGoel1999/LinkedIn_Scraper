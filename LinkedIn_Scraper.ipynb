{
 "cells": [
  {
   "cell_type": "code",
   "execution_count": 1,
   "id": "82bd0c79",
   "metadata": {},
   "outputs": [],
   "source": [
    "from bs4 import BeautifulSoup\n",
    "import requests\n",
    "from selenium.webdriver.common import by\n",
    "import time\n",
    "import pandas as pd\n",
    "import numpy as np\n"
   ]
  },
  {
   "cell_type": "code",
   "execution_count": null,
   "id": "5af115a4",
   "metadata": {},
   "outputs": [],
   "source": [
    "# Creating a webdriver instance used to log into LinkedIn\n",
    "driver = webdriver.Chrome(\"/usr/local/Caskroom/chromedriver/114.0.5735.90/chromedriver\")\n",
    "\n",
    "# Opening linkedIn's login page\n",
    "driver.get(\"https://linkedin.com/uas/login\")\n",
    "\n",
    "# Waiting for the page to load\n",
    "time.sleep(5)\n",
    "\n",
    "# Entering username\n",
    "username = driver.find_element(By.ID, \"username\")\n",
    "\n",
    "# Enter Your Email Address\n",
    "username.send_keys(\"ka********99.com\")\n",
    "\n",
    "# Entering password\n",
    "password = driver.find_element(By.ID, \"password\")\n",
    "\n",
    "# Enter Your Password\n",
    "password.send_keys(\"************\")\n",
    "\n",
    "# Clicking on the log in button\n",
    "driver.find_element(By.XPATH, \"//button[@type='submit']\").click()\n",
    "\n",
    "time.sleep(3)\n",
    "\n",
    "# Get connections page\n",
    "driver.get(\"https://www.linkedin.com/mynetwork/invite-connect/connections/\")\n",
    "\n",
    "time.sleep(3)\n",
    "start = time.time()\n",
    "\n",
    "# Will be used in the while loop\n",
    "initialScroll = 0\n",
    "finalScroll = 1000\n",
    "\n",
    "# This is done to load the whole page so that we can get html for all of it otherwise it will yield partly.\n",
    "while True:\n",
    "    driver.execute_script(f\"window.scrollTo({initialScroll},{finalScroll})\")\n",
    "# This command scrolls the window \n",
    "\n",
    "    initialScroll = finalScroll\n",
    "    finalScroll += 1000\n",
    "\n",
    "# time please! for the data to load\n",
    "    time.sleep(5)\n",
    "    end = time.time()\n",
    "    \n",
    "    if round(end - start) > 180:\n",
    "        break\n",
    "\n",
    "# Get page_source\n",
    "source = driver.page_source\n",
    "\n",
    "soup = BeautifulSoup(source, \"html.parser\")"
   ]
  },
  {
   "cell_type": "code",
   "execution_count": null,
   "id": "838e56a7",
   "metadata": {},
   "outputs": [],
   "source": [
    "all_person_tab_list= soup.find_all(\"div\", class_=\"display-flex align-items-center\")"
   ]
  },
  {
   "cell_type": "code",
   "execution_count": null,
   "id": "a3b8ad22",
   "metadata": {},
   "outputs": [],
   "source": [
    "# We extract all names into a list\n",
    "names_list = list()\n",
    "for p in all_tabs:\n",
    "    names_list.append(p.find(\"span\", class_=\"mn-connection-card__name t-16 t-black t-bold\").get_text().strip());\n",
    "\n",
    "# We extract all positions into a list\n",
    "position_list = list()\n",
    "for p in all_tabs:\n",
    "    position_list.append(p.find(\"span\", class_=\"mn-connection-card__occupation t-14 t-black--light t-normal\").get_text().strip());\n",
    "\n",
    "# We extract all links into a list\n",
    "link_to_profile_list = list()\n",
    "for p in all_tabs:\n",
    "    link_to_profile_list.append(\"https://www.linkedin.com\"+p.find(\"a\", class_=\"ember-view mn-connection-card__picture\").get(\"href\"))\n",
    "    \n",
    "\n",
    "time_connected_list = list()\n",
    "for p in all_tabs:\n",
    "    time_connected_list.append(p.find(\"time\", class_=\"time-badge t-12 t-black--light t-normal\").get_text().strip())\n",
    "\n"
   ]
  },
  {
   "cell_type": "code",
   "execution_count": 2,
   "id": "7c959f4a",
   "metadata": {},
   "outputs": [
    {
     "ename": "NameError",
     "evalue": "name 'names_list' is not defined",
     "output_type": "error",
     "traceback": [
      "\u001b[0;31m---------------------------------------------------------------------------\u001b[0m",
      "\u001b[0;31mNameError\u001b[0m                                 Traceback (most recent call last)",
      "Input \u001b[0;32mIn [2]\u001b[0m, in \u001b[0;36m<cell line: 2>\u001b[0;34m()\u001b[0m\n\u001b[1;32m      1\u001b[0m \u001b[38;5;66;03m# Make a dataframe using the lists\u001b[39;00m\n\u001b[1;32m      2\u001b[0m LinkedInConnections_002 \u001b[38;5;241m=\u001b[39m pd\u001b[38;5;241m.\u001b[39mDataFrame(\n\u001b[0;32m----> 3\u001b[0m     {\u001b[38;5;124m'\u001b[39m\u001b[38;5;124mName\u001b[39m\u001b[38;5;124m'\u001b[39m: \u001b[43mnames_list\u001b[49m,\n\u001b[1;32m      4\u001b[0m      \u001b[38;5;124m'\u001b[39m\u001b[38;5;124mPosition\u001b[39m\u001b[38;5;124m'\u001b[39m: position_list,\n\u001b[1;32m      5\u001b[0m      \u001b[38;5;124m'\u001b[39m\u001b[38;5;124mTime\u001b[39m\u001b[38;5;124m'\u001b[39m: time_connected_list,\n\u001b[1;32m      6\u001b[0m      \u001b[38;5;124m'\u001b[39m\u001b[38;5;124mLink\u001b[39m\u001b[38;5;124m'\u001b[39m: link_to_profile_list\n\u001b[1;32m      7\u001b[0m     })\n\u001b[1;32m      9\u001b[0m \u001b[38;5;66;03m# Store the dataframe as CSV\u001b[39;00m\n\u001b[1;32m     10\u001b[0m LinkedInConnections_002\u001b[38;5;241m.\u001b[39mto_csv(\u001b[38;5;124m\"\u001b[39m\u001b[38;5;124mLinkedInConnections_002.csv\u001b[39m\u001b[38;5;124m\"\u001b[39m)\n",
      "\u001b[0;31mNameError\u001b[0m: name 'names_list' is not defined"
     ]
    }
   ],
   "source": [
    "# Make a dataframe using the lists\n",
    "LinkedInConnections_002 = pd.DataFrame(\n",
    "    {'Name': names_list,\n",
    "     'Position': position_list,\n",
    "     'Time': time_connected_list,\n",
    "     'Link': link_to_profile_list\n",
    "    })\n",
    "\n",
    "# Store the dataframe as CSV\n",
    "LinkedInConnections_002.to_csv(\"LinkedInConnections_002.csv\")"
   ]
  },
  {
   "cell_type": "code",
   "execution_count": null,
   "id": "347f04a2",
   "metadata": {},
   "outputs": [],
   "source": []
  }
 ],
 "metadata": {
  "kernelspec": {
   "display_name": "Python 3 (ipykernel)",
   "language": "python",
   "name": "python3"
  },
  "language_info": {
   "codemirror_mode": {
    "name": "ipython",
    "version": 3
   },
   "file_extension": ".py",
   "mimetype": "text/x-python",
   "name": "python",
   "nbconvert_exporter": "python",
   "pygments_lexer": "ipython3",
   "version": "3.9.12"
  }
 },
 "nbformat": 4,
 "nbformat_minor": 5
}
